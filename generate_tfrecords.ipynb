{
 "cells": [
  {
   "cell_type": "markdown",
   "id": "f6faa52b",
   "metadata": {},
   "source": [
    "# Generate tfrecords files"
   ]
  },
  {
   "cell_type": "markdown",
   "id": "fcb6705c",
   "metadata": {},
   "source": [
    "To train the network, tensorflow use a format of the data which combine the image and it's xlm label named tfrecord. To convert the voc xml label into tfrecord, they provide a script : /tensorflow-scripts/generate_tfrecord.py that we'll use here. Running this notebook will create the desired tfrecord files. If you want to download them, you can follow the instructions explained below (or in the README.md of the training-workspace/annotations)\n",
    "\n",
    "To get this notebook running, the required libraries and softwares must have been installed on your computer before. To do so, follow the tensorflow object detection api documentation : https://tensorflow-object-detection-api-tutorial.readthedocs.io/en/latest/install.html\n",
    "If you did not install everything, or don't have a compatible version between tensorlfow and object-detection-api, you can stil run this notebook but it is a bit harder. In the case you don't,you'll need to tweek some code in your object-detection-api (replace `tf.gfile` by `tf.io.gfile` in `label_map_util` )."
   ]
  },
  {
   "cell_type": "markdown",
   "id": "b522a064",
   "metadata": {},
   "source": [
    "## Generate the files by yourself"
   ]
  },
  {
   "cell_type": "code",
   "execution_count": 3,
   "id": "b27cc642",
   "metadata": {
    "scrolled": true
   },
   "outputs": [
    {
     "name": "stdout",
     "output_type": "stream",
     "text": [
      "2022-11-14 19:16:09.876897: E tensorflow/stream_executor/cuda/cuda_blas.cc:2981] Unable to register cuBLAS factory: Attempting to register factory for plugin cuBLAS when one has already been registered\n",
      "Successfully created the TFRecord file: training-workspace/annotations/train.record\n"
     ]
    }
   ],
   "source": [
    "# Running this create the file train.record under training-workspace/annotations\n",
    "!python3 tensorflow-scripts/generate_tfrecord.py -x images/train/ -l training-workspace/annotations/label_map.pbtxt -o training-workspace/annotations/train.record"
   ]
  },
  {
   "cell_type": "code",
   "execution_count": 4,
   "id": "379b964d",
   "metadata": {},
   "outputs": [
    {
     "name": "stdout",
     "output_type": "stream",
     "text": [
      "2022-11-14 19:20:48.668973: E tensorflow/stream_executor/cuda/cuda_blas.cc:2981] Unable to register cuBLAS factory: Attempting to register factory for plugin cuBLAS when one has already been registered\n",
      "Successfully created the TFRecord file: training-workspace/annotations/test.record\n"
     ]
    }
   ],
   "source": [
    "# Running this create the file test.record under training-workspace/annotations\n",
    "!python3 tensorflow-scripts/generate_tfrecord.py -x images/test/ -l training-workspace/annotations/label_map.pbtxt -o training-workspace/annotations/test.record"
   ]
  },
  {
   "cell_type": "code",
   "execution_count": 5,
   "id": "17a2613f",
   "metadata": {},
   "outputs": [
    {
     "name": "stdout",
     "output_type": "stream",
     "text": [
      "2022-11-14 19:21:31.577255: E tensorflow/stream_executor/cuda/cuda_blas.cc:2981] Unable to register cuBLAS factory: Attempting to register factory for plugin cuBLAS when one has already been registered\n",
      "Successfully created the TFRecord file: training-workspace/annotations/validation.record\n"
     ]
    }
   ],
   "source": [
    "# Running this create the file validation.record under training-workspace/annotations\n",
    "!python3 tensorflow-scripts/generate_tfrecord.py -x images/validation/ -l training-workspace/annotations/label_map.pbtxt -o training-workspace/annotations/validation.record"
   ]
  },
  {
   "cell_type": "markdown",
   "id": "21e3d71a",
   "metadata": {},
   "source": [
    "## Downloading the tfrecords files"
   ]
  },
  {
   "cell_type": "markdown",
   "id": "fd37a14c",
   "metadata": {},
   "source": [
    "* Download the data:\n",
    "```\n",
    "wget --load-cookies /tmp/cookies.txt \"https://docs.google.com/uc?export=download&confirm=$(wget --quiet --save-cookies /tmp/cookies.txt --keep-session-cookies --no-check-certificate 'https://docs.google.com/uc?export=download&id=1iEG6157WrYrWy5l_9vLQT9i93EOFYQot' -O- | sed -rn 's/.*confirm=([0-9A-Za-z_]+).*/\\1\\n/p')&id=1iEG6157WrYrWy5l_9vLQT9i93EOFYQot\" -O tfrecords.zip && rm -rf /tmp/cookies.txt\n",
    "```\n",
    "The data can also be download manually [here](https://drive.google.com/file/d/1iEG6157WrYrWy5l_9vLQT9i93EOFYQot/view?usp=sharing).\n",
    "\n",
    "\n",
    "* Unzip, delete the zip and move the files to the current directory:\n",
    "```\n",
    "unzip tfrecords.zip\n",
    "rm tfrecords.zip\n",
    "mv tfrecords/* .\n",
    "rmdir tfrecords\n",
    "```"
   ]
  }
 ],
 "metadata": {
  "kernelspec": {
   "display_name": "Python 3 (ipykernel)",
   "language": "python",
   "name": "python3"
  },
  "language_info": {
   "codemirror_mode": {
    "name": "ipython",
    "version": 3
   },
   "file_extension": ".py",
   "mimetype": "text/x-python",
   "name": "python",
   "nbconvert_exporter": "python",
   "pygments_lexer": "ipython3",
   "version": "3.8.10"
  }
 },
 "nbformat": 4,
 "nbformat_minor": 5
}
