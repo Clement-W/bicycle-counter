{
 "cells": [
  {
   "cell_type": "markdown",
   "id": "0488c42d",
   "metadata": {},
   "source": [
    "### Download the data"
   ]
  },
  {
   "cell_type": "code",
   "execution_count": null,
   "id": "96876b64",
   "metadata": {},
   "outputs": [],
   "source": [
    "!wget --load-cookies /tmp/cookies.txt \"https://docs.google.com/uc?export=download&confirm=$(wget --quiet --save-cookies /tmp/cookies.txt --keep-session-cookies --no-check-certificate 'https://docs.google.com/uc?export=download&id=1u39ZCDroyUpguicPMUZ20eIeux2N7uql' -O- | sed -rn 's/.*confirm=([0-9A-Za-z_]+).*/\\1\\n/p')&id=1u39ZCDroyUpguicPMUZ20eIeux2N7uql\" -O images.zip && rm -rf /tmp/cookies.txt"
   ]
  },
  {
   "cell_type": "markdown",
   "id": "7c81cffe",
   "metadata": {},
   "source": [
    "The data can also be download manually [here](https://drive.google.com/file/d/1u39ZCDroyUpguicPMUZ20eIeux2N7uql/view?usp=sharing).\n",
    "\n",
    "### Unzip and delete the zip file"
   ]
  },
  {
   "cell_type": "code",
   "execution_count": null,
   "id": "e32a2993",
   "metadata": {},
   "outputs": [],
   "source": [
    "!unzip images.zip\n",
    "!rm images.zip"
   ]
  },
  {
   "cell_type": "markdown",
   "id": "b017b3ed",
   "metadata": {},
   "source": [
    "### Setup training environement (Optional)"
   ]
  },
  {
   "cell_type": "markdown",
   "id": "59882b8f",
   "metadata": {},
   "source": [
    "[Optional if you don't want to train a model] Install every dependences necessary to train an object detection neural net with tensorflow object detection API. To do so, you can follow the installation instructions from the [official tensorlow object detection API](https://tensorflow-object-detection-api-tutorial.readthedocs.io/en/latest/install.html)."
   ]
  }
 ],
 "metadata": {
  "kernelspec": {
   "display_name": "Python 3 (ipykernel)",
   "language": "python",
   "name": "python3"
  },
  "language_info": {
   "codemirror_mode": {
    "name": "ipython",
    "version": 3
   },
   "file_extension": ".py",
   "mimetype": "text/x-python",
   "name": "python",
   "nbconvert_exporter": "python",
   "pygments_lexer": "ipython3",
   "version": "3.8.10"
  }
 },
 "nbformat": 4,
 "nbformat_minor": 5
}
