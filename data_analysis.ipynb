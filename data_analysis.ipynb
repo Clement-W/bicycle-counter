{
 "cells": [
  {
   "cell_type": "markdown",
   "id": "7a38a379",
   "metadata": {},
   "source": [
    "# Exploratory data analysis (TODO)\n",
    "\n",
    "This is the right tool to use : https://github.com/pylabel-project/pylabel it's a python library that I have already use to convert the annotations from YOLO to VOC xml. It create a dataframe with all informations about the dataset so we can perform analysis on the bounding boxes for example. You can see the notebook examples on the github of pylabel, they explain how to vizualise images with bounding boxes. You can also perform analysis on the dataset (example in adapt_dataset.ipynb). If you find another tool to perform data analysis, you're of course welcome to use it! With the dataframe I don't know what you can do, maybe computing the average coordinates of the bounding box, or looking at the distribution of the centroid of the bounding boxes idk \n",
    "You can at least show the bounding box on an image from train,test and val set. (very easy if you it the same way I did in adapt_dataset.ipynb)\n",
    "\n",
    "4. Perform the data exploration step For image data you can still describe your data by the number of classes, # of images, size of images, are sizes standardized? do they need to be cropped? normalized? etc.\n",
    "\n",
    "5. Plot your data, for image data, you will need to plot your example classes."
   ]
  },
  {
   "cell_type": "code",
   "execution_count": 2,
   "id": "045f6f94",
   "metadata": {},
   "outputs": [],
   "source": [
    "#!pip install pylabel\n",
    "from pylabel import importer"
   ]
  }
 ],
 "metadata": {
  "kernelspec": {
   "display_name": "Python 3 (ipykernel)",
   "language": "python",
   "name": "python3"
  },
  "language_info": {
   "codemirror_mode": {
    "name": "ipython",
    "version": 3
   },
   "file_extension": ".py",
   "mimetype": "text/x-python",
   "name": "python",
   "nbconvert_exporter": "python",
   "pygments_lexer": "ipython3",
   "version": "3.8.10"
  }
 },
 "nbformat": 4,
 "nbformat_minor": 5
}
