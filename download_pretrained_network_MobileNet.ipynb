{
 "cells": [
  {
   "cell_type": "markdown",
   "id": "ccdd26da",
   "metadata": {},
   "source": [
    "# Download a pre-trained object detection network for model comparison"
   ]
  },
  {
   "cell_type": "markdown",
   "id": "145846be",
   "metadata": {},
   "source": [
    "The pre-trained object detection models of the tensorflow object detection API are listed [here](https://github.com/tensorflow/models/blob/master/research/object_detection/g3doc/tf2_detection_zoo.md). Many different architecture exists such as RCNN, Faster-RCNN, SSD, etc. For the purpose of our comparison we used the SSD MobileNet v2 320x320."
   ]
  },
  {
   "cell_type": "code",
   "execution_count": 5,
   "id": "ac0cddf4",
   "metadata": {},
   "outputs": [],
   "source": [
    "# Download MobileNet v2 320x320 here:\n",
    "model_download_link = \"http://download.tensorflow.org/models/object_detection/tf2/20200711/ssd_mobilenet_v2_320x320_coco17_tpu-8.tar.gz\""
   ]
  },
  {
   "cell_type": "code",
   "execution_count": 7,
   "id": "7772ba03",
   "metadata": {},
   "outputs": [
    {
     "name": "stdout",
     "output_type": "stream",
     "text": [
      "--2022-11-14 22:44:59--  http://download.tensorflow.org/models/object_detection/tf2/20200711/efficientdet_d1_coco17_tpu-32.tar.gz\n",
      "Résolution de download.tensorflow.org (download.tensorflow.org)… 2607:f8b0:4005:801::2010, 142.251.46.208\n",
      "Connexion à download.tensorflow.org (download.tensorflow.org)|2607:f8b0:4005:801::2010|:80… connecté.\n",
      "requête HTTP transmise, en attente de la réponse… 200 OK\n",
      "Taille : 51839363 (49M) [application/x-tar]\n",
      "Enregistre : «efficientdet_d1_coco17_tpu-32.tar.gz»\n",
      "\n",
      "efficientdet_d1_coc 100%[===================>]  49,44M  47,3MB/s    ds 1,0s    \n",
      "\n",
      "2022-11-14 22:45:01 (47,3 MB/s) - «efficientdet_d1_coco17_tpu-32.tar.gz» enregistré [51839363/51839363]\n",
      "\n"
     ]
    }
   ],
   "source": [
    "# Download the model\n",
    "!wget $model_download_link"
   ]
  },
  {
   "cell_type": "code",
   "execution_count": 2,
   "id": "a4fae93d",
   "metadata": {},
   "outputs": [],
   "source": [
    "# Extract the model into training-workspace/pre-trained-models/\n",
    "!tar -xf ssd_mobilenet_v2_320x320_coco17_tpu-8.tar.gz -C training-workspace/pre-trained-models/"
   ]
  },
  {
   "cell_type": "code",
   "execution_count": 3,
   "id": "753292f7",
   "metadata": {},
   "outputs": [],
   "source": [
    "# Delete the tar.gz file\n",
    "!rm ssd_mobilenet_v2_320x320_coco17_tpu-8.tar.gz"
   ]
  }
 ],
 "metadata": {
  "kernelspec": {
   "display_name": "Python 3 (ipykernel)",
   "language": "python",
   "name": "python3"
  },
  "language_info": {
   "codemirror_mode": {
    "name": "ipython",
    "version": 3
   },
   "file_extension": ".py",
   "mimetype": "text/x-python",
   "name": "python",
   "nbconvert_exporter": "python",
   "pygments_lexer": "ipython3",
   "version": "3.8.10"
  }
 },
 "nbformat": 4,
 "nbformat_minor": 5
}
