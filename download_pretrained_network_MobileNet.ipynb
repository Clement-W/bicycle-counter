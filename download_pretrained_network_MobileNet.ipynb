{
 "cells": [
  {
   "cell_type": "markdown",
   "id": "ccdd26da",
   "metadata": {},
   "source": [
    "# Download a pre-trained object detection network for model comparison"
   ]
  },
  {
   "cell_type": "markdown",
   "id": "145846be",
   "metadata": {},
   "source": [
    "The pre-trained object detection models of the tensorflow object detection API are listed [here](https://github.com/tensorflow/models/blob/master/research/object_detection/g3doc/tf2_detection_zoo.md). Many different architecture exists such as RCNN, Faster-RCNN, SSD, etc. For the purpose of our comparison we used the SSD MobileNet v2 320x320."
   ]
  },
  {
   "cell_type": "code",
   "execution_count": 5,
   "id": "ac0cddf4",
   "metadata": {},
   "outputs": [],
   "source": [
    "# Download MobileNet v2 320x320 here:\n",
    "model_download_link = \"http://download.tensorflow.org/models/object_detection/tf2/20200711/ssd_mobilenet_v2_320x320_coco17_tpu-8.tar.gz\""
   ]
  },
  {
   "cell_type": "code",
   "execution_count": null,
   "id": "7772ba03",
   "metadata": {},
   "outputs": [],
   "source": [
    "# Download the model\n",
    "!wget $model_download_link"
   ]
  },
  {
   "cell_type": "code",
   "execution_count": 2,
   "id": "a4fae93d",
   "metadata": {},
   "outputs": [],
   "source": [
    "# Extract the model into training-workspace/pre-trained-models/\n",
    "!tar -xf ssd_mobilenet_v2_320x320_coco17_tpu-8.tar.gz -C training-workspace/pre-trained-models/"
   ]
  },
  {
   "cell_type": "code",
   "execution_count": 3,
   "id": "753292f7",
   "metadata": {},
   "outputs": [],
   "source": [
    "# Delete the tar.gz file\n",
    "!rm ssd_mobilenet_v2_320x320_coco17_tpu-8.tar.gz"
   ]
  }
 ],
 "metadata": {
  "kernelspec": {
   "display_name": "Python 3 (ipykernel)",
   "language": "python",
   "name": "python3"
  },
  "language_info": {
   "codemirror_mode": {
    "name": "ipython",
    "version": 3
   },
   "file_extension": ".py",
   "mimetype": "text/x-python",
   "name": "python",
   "nbconvert_exporter": "python",
   "pygments_lexer": "ipython3",
   "version": "3.8.10"
  }
 },
 "nbformat": 4,
 "nbformat_minor": 5
}
